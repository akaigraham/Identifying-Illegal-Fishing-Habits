{
 "cells": [
  {
   "cell_type": "code",
   "execution_count": 1,
   "metadata": {},
   "outputs": [],
   "source": [
    "# to pull in additional ocean level data"
   ]
  },
  {
   "cell_type": "code",
   "execution_count": 2,
   "metadata": {},
   "outputs": [],
   "source": [
    "from wodpy import wod"
   ]
  },
  {
   "cell_type": "code",
   "execution_count": 3,
   "metadata": {},
   "outputs": [],
   "source": [
    "fid = open('datasets/ocldb1642977297.29281.OSD')\n",
    "profile = wod.WodProfile(fid)"
   ]
  },
  {
   "cell_type": "code",
   "execution_count": 7,
   "metadata": {},
   "outputs": [
    {
     "name": "stderr",
     "output_type": "stream",
     "text": [
      "/opt/anaconda3/envs/learn-env/lib/python3.8/site-packages/wodpy/wod.py:792: UserWarning: Pandas doesn't allow columns to be created via a new attribute name - see https://pandas.pydata.org/pandas-docs/stable/indexing.html#attribute-access\n",
      "  df.meta = meta\n"
     ]
    },
    {
     "data": {
      "text/plain": [
       "{'latitude': 2.2528,\n",
       " 'latitude_unc': None,\n",
       " 'longitude': 146.783,\n",
       " 'longitude_unc': None,\n",
       " 'uid': 16621322,\n",
       " 'n_levels': 93,\n",
       " 'year': 2012,\n",
       " 'month': 1,\n",
       " 'day': 1,\n",
       " 'time': 0.667,\n",
       " 'cruise': 39079,\n",
       " 'probe_type': 7.0,\n",
       " 'originator_flag_type': 1.0,\n",
       " 'PIs': None,\n",
       " 'originator_station': None,\n",
       " 'originator_cruise': '49NZ20111220',\n",
       " 't_metadata': [{'value': 103.0, 'code': 3, 'iMeta': 0},\n",
       "  {'value': 4.0, 'code': 5, 'iMeta': 0}],\n",
       " 's_metadata': [{'value': 202.0, 'code': 3, 'iMeta': 0}]}"
      ]
     },
     "execution_count": 7,
     "metadata": {},
     "output_type": "execute_result"
    }
   ],
   "source": [
    "ods_df = profile.df()\n",
    "ods_df.meta"
   ]
  },
  {
   "cell_type": "code",
   "execution_count": null,
   "metadata": {},
   "outputs": [],
   "source": []
  }
 ],
 "metadata": {
  "kernelspec": {
   "display_name": "Python 3",
   "language": "python",
   "name": "python3"
  },
  "language_info": {
   "codemirror_mode": {
    "name": "ipython",
    "version": 3
   },
   "file_extension": ".py",
   "mimetype": "text/x-python",
   "name": "python",
   "nbconvert_exporter": "python",
   "pygments_lexer": "ipython3",
   "version": "3.8.5"
  }
 },
 "nbformat": 4,
 "nbformat_minor": 4
}
