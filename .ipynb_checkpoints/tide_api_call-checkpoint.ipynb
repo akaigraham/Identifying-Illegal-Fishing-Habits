{
 "cells": [
  {
   "cell_type": "markdown",
   "metadata": {},
   "source": [
    "Pull in tide data using worldtides api - - provides tide information for lat long and time. \n",
    "\n",
    "https://www.worldtides.info/apidocs"
   ]
  },
  {
   "cell_type": "code",
   "execution_count": 1,
   "metadata": {},
   "outputs": [],
   "source": [
    "# import necessary libraries\n",
    "import requests\n",
    "import json"
   ]
  },
  {
   "cell_type": "code",
   "execution_count": 2,
   "metadata": {},
   "outputs": [],
   "source": [
    "# load api key from directory so it is secure\n",
    "path = '/Users/akg/.secret/worldtide_api.json'\n",
    "keys = json.load(open(path))\n",
    "api_key = keys['api_key']"
   ]
  },
  {
   "cell_type": "code",
   "execution_count": 3,
   "metadata": {},
   "outputs": [],
   "source": [
    "url = 'https://www.worldtides.info/api/v3?heights' # return heights\n",
    "url_params = {\n",
    "    'start': 1642865500, # unix\n",
    "    'lat': 33.768321,\n",
    "    'lon': -118.195617,\n",
    "    'key': api_key,\n",
    "    'length': 60\n",
    "}"
   ]
  },
  {
   "cell_type": "code",
   "execution_count": 4,
   "metadata": {},
   "outputs": [],
   "source": [
    "response = requests.get(url, params=url_params)"
   ]
  },
  {
   "cell_type": "code",
   "execution_count": 5,
   "metadata": {},
   "outputs": [
    {
     "name": "stdout",
     "output_type": "stream",
     "text": [
      "{\"status\":200,\"callCount\":0,\"copyright\":\"Tidal data retrieved from www.worldtides.info. Copyright (c) 2014-2021 Brainware LLC. Licensed for use of individual spatial coordinates on behalf of\\/by an end-user. Source data created by the Center for Operational Oceanographic Products and Services (CO-OPS) and is not subject to copyright protection. NO GUARANTEES ARE MADE ABOUT THE CORRECTNESS OF THIS DATA. You may not use it if anyone or anything could come to harm as a result of using it (e.g. for \n"
     ]
    }
   ],
   "source": [
    "print(response.text[:500])"
   ]
  },
  {
   "cell_type": "code",
   "execution_count": 6,
   "metadata": {},
   "outputs": [
    {
     "name": "stdout",
     "output_type": "stream",
     "text": [
      "https://www.worldtides.info/api/v3?heights&start=1642865500&lat=33.768321&lon=-118.195617&key=ed722481-e21a-4bc1-a74c-54b145f0e1da&length=60\n"
     ]
    }
   ],
   "source": [
    "print(response.url)"
   ]
  },
  {
   "cell_type": "code",
   "execution_count": 7,
   "metadata": {},
   "outputs": [
    {
     "data": {
      "text/plain": [
       "{'status': 200,\n",
       " 'callCount': 0,\n",
       " 'copyright': 'Tidal data retrieved from www.worldtides.info. Copyright (c) 2014-2021 Brainware LLC. Licensed for use of individual spatial coordinates on behalf of/by an end-user. Source data created by the Center for Operational Oceanographic Products and Services (CO-OPS) and is not subject to copyright protection. NO GUARANTEES ARE MADE ABOUT THE CORRECTNESS OF THIS DATA. You may not use it if anyone or anything could come to harm as a result of using it (e.g. for navigational purposes).',\n",
       " 'requestLat': 33.768321,\n",
       " 'requestLon': -118.195617,\n",
       " 'responseLat': 33.7717,\n",
       " 'responseLon': -118.21,\n",
       " 'atlas': 'NOAA',\n",
       " 'station': 'Long Beach, Inner Harbor, California',\n",
       " 'heights': [{'dt': 1642865500,\n",
       "   'date': '2022-01-22T15:31+0000',\n",
       "   'height': 0.002}]}"
      ]
     },
     "execution_count": 7,
     "metadata": {},
     "output_type": "execute_result"
    }
   ],
   "source": [
    "json_response = json.loads(response.text)\n",
    "json_response"
   ]
  },
  {
   "cell_type": "code",
   "execution_count": 8,
   "metadata": {},
   "outputs": [
    {
     "data": {
      "text/plain": [
       "0.002"
      ]
     },
     "execution_count": 8,
     "metadata": {},
     "output_type": "execute_result"
    }
   ],
   "source": [
    "json_response['heights'][0]['height']"
   ]
  },
  {
   "cell_type": "code",
   "execution_count": 9,
   "metadata": {},
   "outputs": [],
   "source": [
    "def get_tide_height(timestamp, lat, lon):\n",
    "    \"\"\"\n",
    "    API call to return tide height given a unix timestamp, latitude and longitude\n",
    "    \"\"\"\n",
    "    heights_url = 'https://www.worldtides.info/api/v3?heights'\n",
    "    heights_params = {\n",
    "        'start': timestamp, \n",
    "        'lat': lat,\n",
    "        'lon': lon,\n",
    "        'key': api_key,\n",
    "        'length': 60\n",
    "    }\n",
    "    str_response = requests.get(heights_url, heights_params)\n",
    "    json_response = json.loads(str_response.text)\n",
    "    tide_height = json_response['heights'][0]['height']\n",
    "    return tide_height"
   ]
  },
  {
   "cell_type": "code",
   "execution_count": 10,
   "metadata": {},
   "outputs": [
    {
     "data": {
      "text/plain": [
       "0.002"
      ]
     },
     "execution_count": 10,
     "metadata": {},
     "output_type": "execute_result"
    }
   ],
   "source": [
    "test = get_tide_height(1642865500, 33.768321, -118.195617)\n",
    "test"
   ]
  },
  {
   "cell_type": "code",
   "execution_count": null,
   "metadata": {},
   "outputs": [],
   "source": []
  }
 ],
 "metadata": {
  "kernelspec": {
   "display_name": "Python 3",
   "language": "python",
   "name": "python3"
  },
  "language_info": {
   "codemirror_mode": {
    "name": "ipython",
    "version": 3
   },
   "file_extension": ".py",
   "mimetype": "text/x-python",
   "name": "python",
   "nbconvert_exporter": "python",
   "pygments_lexer": "ipython3",
   "version": "3.8.5"
  }
 },
 "nbformat": 4,
 "nbformat_minor": 4
}
