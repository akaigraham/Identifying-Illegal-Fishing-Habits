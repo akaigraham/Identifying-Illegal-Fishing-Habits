{
 "cells": [
  {
   "cell_type": "markdown",
   "metadata": {},
   "source": [
    "# Capstone Project - Predicting Commercial Fishing Habits"
   ]
  },
  {
   "cell_type": "markdown",
   "metadata": {},
   "source": [
    "## Overview of Process - CRISP-DM\n",
    "1. Business Understanding\n",
    "2. Data Understanding\n",
    "3. Data Preparation\n",
    "4. Modeling\n",
    "5. Evaluation\n",
    "6. Deployment"
   ]
  },
  {
   "cell_type": "markdown",
   "metadata": {},
   "source": [
    "# 1. Business Understanding\n",
    "According to NOAA, illegal, unreported, and unregulated fishing activities (`IUU`) violate both national and international fishing regulations. IUU is a global problem that threatens ocean ecosystems and sustainable fisheries.  It also threatens economic secuity and the natural resources that are critical to global food security. IUU also puts law-abiding fishing operations at a disadvantage. \n",
    "\n",
    "Illegal fishing refers to fishing activities conducted in contravention of applicable laws and regulations, including those laws and rules adopted at the regional and international level. \n",
    "\n",
    "Unreported fishing refers to fishing activities that are not reported or are misreported to relevant authorities in contravention of national laws and regulations or reporting procedures of a relevant regional fisheries management organization.\n",
    "\n",
    "Unregulated fishing occurs in areas or for fish stocks for which there are no applicable conservation or management measures and where such fishing activities are conducted in a manner inconsistent with State responsibilities for the conservation of living marine resources under international law. Fishing activities are also unregulated when occurring in an RFMO-managed area and conducted by vessels without nationality, or by those flying a flag of a State or fishing entity that is not party to the RFMO in a manner that is inconsistent with the conservation measures of that RFMO. https://www.fisheries.noaa.gov/insight/understanding-illegal-unreported-and-unregulated-fishing\n",
    "\n",
    "AIS stands for Automatic Identification System, and is used for tracking marine vessel traffic data. AIS data is collected by the US Coast Guard through an onboard safety navigation device that transmits and monitors the location and characteristics of large vessels in the US and international waters in real time. In the United States, the Coast Guard and commercial vendors collect AIS data, which can also be used for a variety of coastal planning initiatives. https://marinecadastre.gov/ais/\n",
    "\n",
    "AIS is a maritime navigation safety communications system standardized by the international telecommunications union and adopted by the International Maritime Organization (IMO) that provides vessel information, including the vessel's identity, type, position, course, speed, navigational status and other safety-related information automatically to appropriately equipped shore stations, other ships, and aircraft; receives automatically such information from similarly fitted ships; monitors and tracks ships; and exchanges data with shore-based facilities. More information can be found here https://www.navcen.uscg.gov/?pageName=AISFAQ#1"
   ]
  },
  {
   "cell_type": "markdown",
   "metadata": {},
   "source": [
    "# 2. Data Understanding"
   ]
  },
  {
   "cell_type": "markdown",
   "metadata": {},
   "source": [
    "1. What data is available to us? Where does it come from?\n",
    "2. Who controls the data and what steps are needed to access the data?\n",
    "3. What is our target?\n",
    "4. What predictors are available to us?\n",
    "5. What data types are the predictors?\n",
    "6. What is the distribution of our data?\n",
    "7. How big is our data?\n",
    "8. Do we have enough data to build a model? Will we need to use resampling?\n",
    "9. How do we know the data is correct?  Is there a chance the data is wrong?"
   ]
  },
  {
   "cell_type": "markdown",
   "metadata": {},
   "source": [
    "Two primary datasets will be used for this process:\n",
    "1. Vessel AIS data sourced from Global Fishing Watch\n",
    "2. Various ocean measurements and Ocean Station Data sourced from NOAA and the World Ocean Database"
   ]
  },
  {
   "cell_type": "code",
   "execution_count": 8,
   "metadata": {},
   "outputs": [],
   "source": [
    "# import necessary libraries\n",
    "import pandas as pd\n",
    "import numpy as np\n",
    "import matplotlib.pyplot as plt\n",
    "%matplotlib inline\n",
    "import seaborn as sns\n",
    "from datetime import datetime\n",
    "\n",
    "# set visualization style\n",
    "plt.style.use('ggplot')"
   ]
  },
  {
   "cell_type": "markdown",
   "metadata": {},
   "source": [
    "## AIS Data (Global Fishing Watch)\n",
    "Global fishing watch dataset was sourced from `https://globalfishingwatch.org/data-download/`. 7 separate files were downloaded, each corresponding to a type of fishing vessel:\n",
    "1. `drifting_longlines.csv`\n",
    "2. `fixed_gear.csv`\n",
    "3. `pole_and_line.csv`\n",
    "4. `purse_seines.csv`\n",
    "5. `trawlers.csv`\n",
    "6. `trollers.csv`\n",
    "7. `unknown.csv`"
   ]
  },
  {
   "cell_type": "code",
   "execution_count": 9,
   "metadata": {},
   "outputs": [],
   "source": [
    "# load datasets\n",
    "drifting_longlines = pd.read_csv('datasets/drifting_longlines.csv')\n",
    "fixed_gear = pd.read_csv('datasets/fixed_gear.csv')\n",
    "pole_and_line = pd.read_csv('datasets/pole_and_line.csv')\n",
    "purse_seines = pd.read_csv('datasets/purse_seines.csv')\n",
    "trawlers = pd.read_csv('datasets/trawlers.csv')\n",
    "trollers = pd.read_csv('datasets/trollers.csv')\n",
    "unknown = pd.read_csv('datasets/unknown.csv')"
   ]
  },
  {
   "cell_type": "markdown",
   "metadata": {},
   "source": [
    "Per Global Fishing Watch each dataset contains the following columns:\n",
    "* `mmsi` - anonymized vessel identifier\n",
    "* `timestamp` - unix timestamp\n",
    "* `distance_from_shore` - distance from shore in meters\n",
    "* `distance_from_port` - distance from port in meters\n",
    "* `speed` - vessel speed in knots\n",
    "* `course` - vessel course\n",
    "* `lat` - latitude in decimal degrees\n",
    "* `long` - longitude in decimal degrees\n",
    "* `source` - The training data batch. Data was prepared by GFW, Dalhousie, and a crowd sourcing campaign. False positives are marked as false_positives\n",
    "* `vessel_type` - type of vessel\n",
    "* `is_fishing` - label indicating fishing activity\n",
    "    * `0` = not fishing\n",
    "    * `>0` = fishing. Data values between 0 and 1 indicate the average score for the position if scored by multiple people\n",
    "    * `-1` = no data. \n",
    "    \n",
    "`is_fishing` will be our primary target variable, with other columns available to us used as features. "
   ]
  },
  {
   "cell_type": "markdown",
   "metadata": {},
   "source": [
    "### AIS - Drifting Longlines"
   ]
  },
  {
   "cell_type": "code",
   "execution_count": 13,
   "metadata": {},
   "outputs": [
    {
     "data": {
      "text/html": [
       "<div>\n",
       "<style scoped>\n",
       "    .dataframe tbody tr th:only-of-type {\n",
       "        vertical-align: middle;\n",
       "    }\n",
       "\n",
       "    .dataframe tbody tr th {\n",
       "        vertical-align: top;\n",
       "    }\n",
       "\n",
       "    .dataframe thead th {\n",
       "        text-align: right;\n",
       "    }\n",
       "</style>\n",
       "<table border=\"1\" class=\"dataframe\">\n",
       "  <thead>\n",
       "    <tr style=\"text-align: right;\">\n",
       "      <th></th>\n",
       "      <th>mmsi</th>\n",
       "      <th>timestamp</th>\n",
       "      <th>distance_from_shore</th>\n",
       "      <th>distance_from_port</th>\n",
       "      <th>speed</th>\n",
       "      <th>course</th>\n",
       "      <th>lat</th>\n",
       "      <th>lon</th>\n",
       "      <th>is_fishing</th>\n",
       "      <th>source</th>\n",
       "    </tr>\n",
       "  </thead>\n",
       "  <tbody>\n",
       "    <tr>\n",
       "      <th>0</th>\n",
       "      <td>1.263956e+13</td>\n",
       "      <td>1.327137e+09</td>\n",
       "      <td>232994.281250</td>\n",
       "      <td>311748.65625</td>\n",
       "      <td>8.2</td>\n",
       "      <td>230.500000</td>\n",
       "      <td>14.865583</td>\n",
       "      <td>-26.853662</td>\n",
       "      <td>-1.0</td>\n",
       "      <td>dalhousie_longliner</td>\n",
       "    </tr>\n",
       "    <tr>\n",
       "      <th>1</th>\n",
       "      <td>1.263956e+13</td>\n",
       "      <td>1.327137e+09</td>\n",
       "      <td>233994.265625</td>\n",
       "      <td>312410.34375</td>\n",
       "      <td>7.3</td>\n",
       "      <td>238.399994</td>\n",
       "      <td>14.863870</td>\n",
       "      <td>-26.856800</td>\n",
       "      <td>-1.0</td>\n",
       "      <td>dalhousie_longliner</td>\n",
       "    </tr>\n",
       "    <tr>\n",
       "      <th>2</th>\n",
       "      <td>1.263956e+13</td>\n",
       "      <td>1.327137e+09</td>\n",
       "      <td>233994.265625</td>\n",
       "      <td>312410.34375</td>\n",
       "      <td>6.8</td>\n",
       "      <td>238.899994</td>\n",
       "      <td>14.861551</td>\n",
       "      <td>-26.860649</td>\n",
       "      <td>-1.0</td>\n",
       "      <td>dalhousie_longliner</td>\n",
       "    </tr>\n",
       "    <tr>\n",
       "      <th>3</th>\n",
       "      <td>1.263956e+13</td>\n",
       "      <td>1.327143e+09</td>\n",
       "      <td>233994.265625</td>\n",
       "      <td>315417.37500</td>\n",
       "      <td>6.9</td>\n",
       "      <td>251.800003</td>\n",
       "      <td>14.822686</td>\n",
       "      <td>-26.865898</td>\n",
       "      <td>-1.0</td>\n",
       "      <td>dalhousie_longliner</td>\n",
       "    </tr>\n",
       "    <tr>\n",
       "      <th>4</th>\n",
       "      <td>1.263956e+13</td>\n",
       "      <td>1.327143e+09</td>\n",
       "      <td>233996.390625</td>\n",
       "      <td>316172.56250</td>\n",
       "      <td>6.1</td>\n",
       "      <td>231.100006</td>\n",
       "      <td>14.821825</td>\n",
       "      <td>-26.867579</td>\n",
       "      <td>-1.0</td>\n",
       "      <td>dalhousie_longliner</td>\n",
       "    </tr>\n",
       "  </tbody>\n",
       "</table>\n",
       "</div>"
      ],
      "text/plain": [
       "           mmsi     timestamp  distance_from_shore  distance_from_port  speed  \\\n",
       "0  1.263956e+13  1.327137e+09        232994.281250        311748.65625    8.2   \n",
       "1  1.263956e+13  1.327137e+09        233994.265625        312410.34375    7.3   \n",
       "2  1.263956e+13  1.327137e+09        233994.265625        312410.34375    6.8   \n",
       "3  1.263956e+13  1.327143e+09        233994.265625        315417.37500    6.9   \n",
       "4  1.263956e+13  1.327143e+09        233996.390625        316172.56250    6.1   \n",
       "\n",
       "       course        lat        lon  is_fishing               source  \n",
       "0  230.500000  14.865583 -26.853662        -1.0  dalhousie_longliner  \n",
       "1  238.399994  14.863870 -26.856800        -1.0  dalhousie_longliner  \n",
       "2  238.899994  14.861551 -26.860649        -1.0  dalhousie_longliner  \n",
       "3  251.800003  14.822686 -26.865898        -1.0  dalhousie_longliner  \n",
       "4  231.100006  14.821825 -26.867579        -1.0  dalhousie_longliner  "
      ]
     },
     "execution_count": 13,
     "metadata": {},
     "output_type": "execute_result"
    }
   ],
   "source": [
    "# display top 5 rows\n",
    "drifting_longlines.head()"
   ]
  },
  {
   "cell_type": "code",
   "execution_count": 14,
   "metadata": {},
   "outputs": [
    {
     "name": "stdout",
     "output_type": "stream",
     "text": [
      "<class 'pandas.core.frame.DataFrame'>\n",
      "RangeIndex: 13968727 entries, 0 to 13968726\n",
      "Data columns (total 10 columns):\n",
      " #   Column               Dtype  \n",
      "---  ------               -----  \n",
      " 0   mmsi                 float64\n",
      " 1   timestamp            float64\n",
      " 2   distance_from_shore  float64\n",
      " 3   distance_from_port   float64\n",
      " 4   speed                float64\n",
      " 5   course               float64\n",
      " 6   lat                  float64\n",
      " 7   lon                  float64\n",
      " 8   is_fishing           float64\n",
      " 9   source               object \n",
      "dtypes: float64(9), object(1)\n",
      "memory usage: 1.0+ GB\n"
     ]
    }
   ],
   "source": [
    "# display info\n",
    "drifting_longlines.info()"
   ]
  },
  {
   "cell_type": "code",
   "execution_count": 16,
   "metadata": {},
   "outputs": [
    {
     "data": {
      "text/html": [
       "<div>\n",
       "<style scoped>\n",
       "    .dataframe tbody tr th:only-of-type {\n",
       "        vertical-align: middle;\n",
       "    }\n",
       "\n",
       "    .dataframe tbody tr th {\n",
       "        vertical-align: top;\n",
       "    }\n",
       "\n",
       "    .dataframe thead th {\n",
       "        text-align: right;\n",
       "    }\n",
       "</style>\n",
       "<table border=\"1\" class=\"dataframe\">\n",
       "  <thead>\n",
       "    <tr style=\"text-align: right;\">\n",
       "      <th></th>\n",
       "      <th>mmsi</th>\n",
       "      <th>timestamp</th>\n",
       "      <th>distance_from_shore</th>\n",
       "      <th>distance_from_port</th>\n",
       "      <th>speed</th>\n",
       "      <th>course</th>\n",
       "      <th>lat</th>\n",
       "      <th>lon</th>\n",
       "      <th>is_fishing</th>\n",
       "    </tr>\n",
       "  </thead>\n",
       "  <tbody>\n",
       "    <tr>\n",
       "      <th>count</th>\n",
       "      <td>1.396873e+07</td>\n",
       "      <td>1.396873e+07</td>\n",
       "      <td>1.396873e+07</td>\n",
       "      <td>1.396873e+07</td>\n",
       "      <td>1.396863e+07</td>\n",
       "      <td>1.396863e+07</td>\n",
       "      <td>1.396873e+07</td>\n",
       "      <td>1.396873e+07</td>\n",
       "      <td>1.396873e+07</td>\n",
       "    </tr>\n",
       "    <tr>\n",
       "      <th>mean</th>\n",
       "      <td>1.293850e+14</td>\n",
       "      <td>1.434290e+09</td>\n",
       "      <td>5.845311e+05</td>\n",
       "      <td>7.897505e+05</td>\n",
       "      <td>5.464779e+00</td>\n",
       "      <td>1.814876e+02</td>\n",
       "      <td>-8.997629e+00</td>\n",
       "      <td>3.758693e+00</td>\n",
       "      <td>-9.743015e-01</td>\n",
       "    </tr>\n",
       "    <tr>\n",
       "      <th>std</th>\n",
       "      <td>7.887357e+13</td>\n",
       "      <td>3.984275e+07</td>\n",
       "      <td>5.420068e+05</td>\n",
       "      <td>6.915438e+05</td>\n",
       "      <td>4.043567e+00</td>\n",
       "      <td>1.050503e+02</td>\n",
       "      <td>2.439311e+01</td>\n",
       "      <td>1.095971e+02</td>\n",
       "      <td>2.119947e-01</td>\n",
       "    </tr>\n",
       "    <tr>\n",
       "      <th>min</th>\n",
       "      <td>5.601266e+12</td>\n",
       "      <td>1.325376e+09</td>\n",
       "      <td>0.000000e+00</td>\n",
       "      <td>0.000000e+00</td>\n",
       "      <td>0.000000e+00</td>\n",
       "      <td>0.000000e+00</td>\n",
       "      <td>-7.519017e+01</td>\n",
       "      <td>-1.800000e+02</td>\n",
       "      <td>-1.000000e+00</td>\n",
       "    </tr>\n",
       "    <tr>\n",
       "      <th>25%</th>\n",
       "      <td>6.260384e+13</td>\n",
       "      <td>1.410706e+09</td>\n",
       "      <td>1.019092e+05</td>\n",
       "      <td>2.130206e+05</td>\n",
       "      <td>2.100000e+00</td>\n",
       "      <td>9.070000e+01</td>\n",
       "      <td>-2.601550e+01</td>\n",
       "      <td>-8.808668e+01</td>\n",
       "      <td>-1.000000e+00</td>\n",
       "    </tr>\n",
       "    <tr>\n",
       "      <th>50%</th>\n",
       "      <td>1.184859e+14</td>\n",
       "      <td>1.447302e+09</td>\n",
       "      <td>4.576393e+05</td>\n",
       "      <td>6.375249e+05</td>\n",
       "      <td>5.500000e+00</td>\n",
       "      <td>1.811000e+02</td>\n",
       "      <td>-1.497954e+01</td>\n",
       "      <td>-1.716495e+00</td>\n",
       "      <td>-1.000000e+00</td>\n",
       "    </tr>\n",
       "    <tr>\n",
       "      <th>75%</th>\n",
       "      <td>1.980758e+14</td>\n",
       "      <td>1.466506e+09</td>\n",
       "      <td>9.603664e+05</td>\n",
       "      <td>1.210432e+06</td>\n",
       "      <td>8.500000e+00</td>\n",
       "      <td>2.711000e+02</td>\n",
       "      <td>4.485790e+00</td>\n",
       "      <td>1.009811e+02</td>\n",
       "      <td>-1.000000e+00</td>\n",
       "    </tr>\n",
       "    <tr>\n",
       "      <th>max</th>\n",
       "      <td>2.812058e+14</td>\n",
       "      <td>1.480032e+09</td>\n",
       "      <td>4.430996e+06</td>\n",
       "      <td>7.181037e+06</td>\n",
       "      <td>1.023000e+02</td>\n",
       "      <td>5.110000e+02</td>\n",
       "      <td>8.333266e+01</td>\n",
       "      <td>1.799938e+02</td>\n",
       "      <td>1.000000e+00</td>\n",
       "    </tr>\n",
       "  </tbody>\n",
       "</table>\n",
       "</div>"
      ],
      "text/plain": [
       "               mmsi     timestamp  distance_from_shore  distance_from_port  \\\n",
       "count  1.396873e+07  1.396873e+07         1.396873e+07        1.396873e+07   \n",
       "mean   1.293850e+14  1.434290e+09         5.845311e+05        7.897505e+05   \n",
       "std    7.887357e+13  3.984275e+07         5.420068e+05        6.915438e+05   \n",
       "min    5.601266e+12  1.325376e+09         0.000000e+00        0.000000e+00   \n",
       "25%    6.260384e+13  1.410706e+09         1.019092e+05        2.130206e+05   \n",
       "50%    1.184859e+14  1.447302e+09         4.576393e+05        6.375249e+05   \n",
       "75%    1.980758e+14  1.466506e+09         9.603664e+05        1.210432e+06   \n",
       "max    2.812058e+14  1.480032e+09         4.430996e+06        7.181037e+06   \n",
       "\n",
       "              speed        course           lat           lon    is_fishing  \n",
       "count  1.396863e+07  1.396863e+07  1.396873e+07  1.396873e+07  1.396873e+07  \n",
       "mean   5.464779e+00  1.814876e+02 -8.997629e+00  3.758693e+00 -9.743015e-01  \n",
       "std    4.043567e+00  1.050503e+02  2.439311e+01  1.095971e+02  2.119947e-01  \n",
       "min    0.000000e+00  0.000000e+00 -7.519017e+01 -1.800000e+02 -1.000000e+00  \n",
       "25%    2.100000e+00  9.070000e+01 -2.601550e+01 -8.808668e+01 -1.000000e+00  \n",
       "50%    5.500000e+00  1.811000e+02 -1.497954e+01 -1.716495e+00 -1.000000e+00  \n",
       "75%    8.500000e+00  2.711000e+02  4.485790e+00  1.009811e+02 -1.000000e+00  \n",
       "max    1.023000e+02  5.110000e+02  8.333266e+01  1.799938e+02  1.000000e+00  "
      ]
     },
     "execution_count": 16,
     "metadata": {},
     "output_type": "execute_result"
    }
   ],
   "source": [
    "# display summary statistics for continuous columns\n",
    "drifting_longlines.describe()"
   ]
  },
  {
   "cell_type": "code",
   "execution_count": 17,
   "metadata": {},
   "outputs": [
    {
     "name": "stdout",
     "output_type": "stream",
     "text": [
      "There are 110 unique anonymized vessel IDs\n"
     ]
    }
   ],
   "source": [
    "# display number of unique vessels\n",
    "drifting_longline_ids = drifting_longlines['mmsi'].unique()\n",
    "print(f'There are {len(drifting_longline_ids)} unique anonymized vessel IDs')"
   ]
  },
  {
   "cell_type": "code",
   "execution_count": null,
   "metadata": {},
   "outputs": [],
   "source": []
  },
  {
   "cell_type": "code",
   "execution_count": null,
   "metadata": {},
   "outputs": [],
   "source": []
  },
  {
   "cell_type": "code",
   "execution_count": null,
   "metadata": {},
   "outputs": [],
   "source": []
  },
  {
   "cell_type": "code",
   "execution_count": null,
   "metadata": {},
   "outputs": [],
   "source": []
  },
  {
   "cell_type": "code",
   "execution_count": null,
   "metadata": {},
   "outputs": [],
   "source": []
  },
  {
   "cell_type": "code",
   "execution_count": null,
   "metadata": {},
   "outputs": [],
   "source": []
  },
  {
   "cell_type": "code",
   "execution_count": 18,
   "metadata": {},
   "outputs": [],
   "source": [
    "# concatenate - add vessel type"
   ]
  },
  {
   "cell_type": "markdown",
   "metadata": {},
   "source": [
    "## NOAA Ocean Station Data (OSD)\n",
    "Ocean station data was sourced from the following url: `https://www.ncei.noaa.gov/access/world-ocean-database-select/dbsearch.html`.\n",
    "\n",
    "Using the WODselect retrieval system enables a user to search World Ocean Database and new data using user-specified criteria. \n",
    "\n",
    "The World Ocean Database is encoded per the following documentation: `https://www.ncei.noaa.gov/data/oceans/woa/WOD/DOC/wodreadme.pdf`\n",
    "\n",
    "As a result, downloaded files are returned in a native `.OSD` format.  To handle reading and importing of `.OSD` data, I made use of the `wodpy` package.  More information regarding `wodpy` can be found: `https://github.com/IQuOD/wodpy`.  \n",
    "\n",
    "After successful loading of NOAA OSD, we have access to the following additional data: \n",
    "* `z`: level depths in meters\n",
    "* `z_level_qc`: level depth qc flags (0 == all good)\n",
    "* `z_unc`: depth uncertainty\n",
    "* `t`: level temperature in Celcius\n",
    "* `t_level_qc`: level temperature qc flags (0 == all good)\n",
    "* `t_unc`: temperature uncertainty\n",
    "* `s`: level salinities\n",
    "* `s_level_qc`: level salinity qc flags (0 == all good)\n",
    "* `s_unc`: salinity uncertainty\n",
    "* `oxygen`: oxygen content (mL / L)\n",
    "* `phosphate`: phosphate content (uM / L)\n",
    "* `silicate`: silicate content (uM / L)\n",
    "* `pH`: pH levels\n",
    "* `p`: pressure (decibar)\n",
    "\n",
    "NOAA OSD will be merged with vessel AIS data to add additional features  to use for classification. "
   ]
  },
  {
   "cell_type": "code",
   "execution_count": 2,
   "metadata": {},
   "outputs": [],
   "source": [
    "# import necessary libraries\n",
    "import pandas as pd\n",
    "import numpy as np\n",
    "import matplotlib.pyplot as plt\n",
    "%matplotlib inline\n",
    "import seaborn as sns\n",
    "from datetime import datetime\n",
    "\n",
    "# set visualization style\n",
    "plt.style.use('ggplot')"
   ]
  },
  {
   "cell_type": "code",
   "execution_count": 3,
   "metadata": {},
   "outputs": [],
   "source": [
    "# load datasets\n",
    "drifting_longlines = pd.read_csv('datasets/drifting_longlines.csv')\n",
    "fixed_gear = pd.read_csv('datasets/fixed_gear.csv')\n",
    "pole_and_line = pd.read_csv('datasets/pole_and_line.csv')\n",
    "purse_seines = pd.read_csv('datasets/purse_seines.csv')\n",
    "trawlers = pd.read_csv('datasets/trawlers.csv')\n",
    "trollers = pd.read_csv('datasets/trollers.csv')\n",
    "unknown = pd.read_csv('datasets/unknown.csv')"
   ]
  },
  {
   "cell_type": "code",
   "execution_count": null,
   "metadata": {},
   "outputs": [],
   "source": []
  },
  {
   "cell_type": "code",
   "execution_count": null,
   "metadata": {},
   "outputs": [],
   "source": []
  },
  {
   "cell_type": "code",
   "execution_count": null,
   "metadata": {},
   "outputs": [],
   "source": [
    "# import necessary libraries\n",
    "import pandas as pd\n",
    "import numpy as np"
   ]
  }
 ],
 "metadata": {
  "kernelspec": {
   "display_name": "Python 3",
   "language": "python",
   "name": "python3"
  },
  "language_info": {
   "codemirror_mode": {
    "name": "ipython",
    "version": 3
   },
   "file_extension": ".py",
   "mimetype": "text/x-python",
   "name": "python",
   "nbconvert_exporter": "python",
   "pygments_lexer": "ipython3",
   "version": "3.6.13"
  }
 },
 "nbformat": 4,
 "nbformat_minor": 4
}
