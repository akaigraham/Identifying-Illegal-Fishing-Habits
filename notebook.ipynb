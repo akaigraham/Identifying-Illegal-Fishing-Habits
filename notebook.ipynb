{
 "cells": [
  {
   "cell_type": "markdown",
   "metadata": {},
   "source": [
    "# Capstone Project - Predicting Commercial Fishing Habits"
   ]
  },
  {
   "cell_type": "markdown",
   "metadata": {},
   "source": [
    "## Overview of Process - CRISP-DM\n",
    "1. Business Understanding\n",
    "2. Data Understanding\n",
    "3. Data Preparation\n",
    "4. Modeling\n",
    "5. Evaluation\n",
    "6. Deployment"
   ]
  },
  {
   "cell_type": "markdown",
   "metadata": {},
   "source": [
    "1. Business Understanding\n",
    "According to NOAA, illegal, unreported, and unregulated fishing activities (`IUU`) violate both national and international fishing regulations. IUU is a global problem that threatens ocean ecosystems and sustainable fisheries.  It also threatens economic secuity and the natural resources that are critical to global food security. IUU also puts law-abiding fishing operations at a disadvantage. \n",
    "\n",
    "Illegal fishing refers to fishing activities conducted in contravention of applicable laws and regulations, including those laws and rules adopted at the regional and international level. \n",
    "\n",
    "Unreported fishing refers to fishing activities that are not reported or are misreported to relevant authorities in contravention of national laws and regulations or reporting procedures of a relevant regional fisheries management organization.\n",
    "\n",
    "Unregulated fishing occurs in areas or for fish stocks for which there are no applicable conservation or management measures and where such fishing activities are conducted in a manner inconsistent with State responsibilities for the conservation of living marine resources under international law. Fishing activities are also unregulated when occurring in an RFMO-managed area and conducted by vessels without nationality, or by those flying a flag of a State or fishing entity that is not party to the RFMO in a manner that is inconsistent with the conservation measures of that RFMO. https://www.fisheries.noaa.gov/insight/understanding-illegal-unreported-and-unregulated-fishing\n",
    "\n",
    "AIS stands for Automatic Identification System, and is used for tracking marine vessel traffic data. AIS data is collected by the US Coast Guard through an onboard safety navigation device that transmits and monitors the location and characteristics of large vessels in the US and international waters in real time. In the United States, the Coast Guard and commercial vendors collect AIS data, which can also be used for a variety of coastal planning initiatives. https://marinecadastre.gov/ais/\n",
    "\n",
    "AIS is a maritime navigation safety communications system standardized by the international telecommunications union and adopted by the International Maritime Organization (IMO) that provides vessel information, including the vessel's identity, type, position, course, speed, navigational status and other safety-related information automatically to appropriately equipped shore stations, other ships, and aircraft; receives automatically such information from similarly fitted ships; monitors and tracks ships; and exchanges data with shore-based facilities. More information can be found here https://www.navcen.uscg.gov/?pageName=AISFAQ#1"
   ]
  },
  {
   "cell_type": "markdown",
   "metadata": {},
   "source": [
    "# 2. Data Understanding"
   ]
  },
  {
   "cell_type": "markdown",
   "metadata": {},
   "source": [
    "Datasets used in this process come from two primary sources: \n",
    "1. Global Fishing Watch\n",
    "2. NOAA Ocean Station Data"
   ]
  },
  {
   "cell_type": "markdown",
   "metadata": {},
   "source": [
    "## Global Fishing Watch Dataset\n",
    "Global fishing watch dataset was sourced from `https://globalfishingwatch.org/data-download/`. 7 separate files were downloaded, each corresponding to a type of fishing vessel:\n",
    "1. `drifting_longlines.csv`\n",
    "2. `fixed_gear.csv`\n",
    "3. `pole_and_line.csv`\n",
    "4. `purse_seines.csv`\n",
    "5. `trawlers.csv`\n",
    "6. `trollers.csv`\n",
    "7. `unknown.csv`\n",
    "\n",
    "Each dataset contains the following columns:\n",
    "* `mmsi` - anonymized vessel identifier\n",
    "* `timestamp` - unix timestamp\n",
    "* `distance_from_shore` - distance from shore in meters\n",
    "* `distance_from_port` - distance from port in meters\n",
    "* `speed` - vessel speed in knots\n",
    "* `course` - vessel course\n",
    "* `lat` - latitude in decimal degrees\n",
    "* `long` - longitude in decimal degrees\n",
    "* `source` - The training data batch. Data was prepared by GFW, Dalhousie, and a crowd sourcing campaign. False positives are marked as false_positives\n",
    "* `vessel_type` - type of vessel\n",
    "* `is_fishing` - label indicating fishing activity\n",
    "    * `0` = not fishing\n",
    "    * `>0` = fishing. Data values between 0 and 1 indicate the average score for the position if scored by multiple people\n",
    "    * `-1` = no data. \n",
    "    \n",
    "`is_fishing` will be our primary target variable, with other columns available to us used as featurs. "
   ]
  },
  {
   "cell_type": "markdown",
   "metadata": {},
   "source": [
    "## NOAA Ocean Station Data (OSD)\n",
    "Ocean station data was sourced from the following url: `https://www.ncei.noaa.gov/access/world-ocean-database-select/dbsearch.html`.\n",
    "\n",
    "Using the WODselect retrieval system enables a user to search World Ocean Database and new data using user-specified criteria. \n",
    "\n",
    "The World Ocean Database is encoded per the following documentation: `https://www.ncei.noaa.gov/data/oceans/woa/WOD/DOC/wodreadme.pdf`\n",
    "\n",
    "As a result, downloaded files are returned in a native `.OSD` format.  To handle reading and importing of `.OSD` data, I made use of the `wodpy` package.  More information regarding `wodpy` can be found: `https://github.com/IQuOD/wodpy`.  \n",
    "\n",
    "After successful loading of NOAA OSD, we have access to the following additional data: \n",
    "* `z`: level depths in meters\n",
    "* `z_level_qc`: level depth qc flags (0 == all good)\n",
    "* `z_unc`: depth uncertainty\n",
    "* `t`: level temperature in Celcius\n",
    "* `t_level_qc`: level temperature qc flags (0 == all good)\n",
    "* `t_unc`: temperature uncertainty\n",
    "* `s`: level salinities\n",
    "* `s_level_qc`: level salinity qc flags (0 == all good)\n",
    "* `s_unc`: salinity uncertainty\n",
    "* `oxygen`: oxygen content (mL / L)\n",
    "* `phosphate`: phosphate content (uM / L)\n",
    "* `silicate`: silicate content (uM / L)\n",
    "* `pH`: pH levels\n",
    "* `p`: pressure (decibar)\n",
    "\n",
    "NOAA OSD will be merged with vessel AIS data to add additional features  to use for classification. "
   ]
  },
  {
   "cell_type": "code",
   "execution_count": null,
   "metadata": {},
   "outputs": [],
   "source": []
  },
  {
   "cell_type": "code",
   "execution_count": null,
   "metadata": {},
   "outputs": [],
   "source": []
  },
  {
   "cell_type": "code",
   "execution_count": null,
   "metadata": {},
   "outputs": [],
   "source": [
    "# import necessary libraries\n",
    "import pandas as pd\n",
    "import numpy as np"
   ]
  }
 ],
 "metadata": {
  "kernelspec": {
   "display_name": "Python 3",
   "language": "python",
   "name": "python3"
  },
  "language_info": {
   "codemirror_mode": {
    "name": "ipython",
    "version": 3
   },
   "file_extension": ".py",
   "mimetype": "text/x-python",
   "name": "python",
   "nbconvert_exporter": "python",
   "pygments_lexer": "ipython3",
   "version": "3.8.5"
  }
 },
 "nbformat": 4,
 "nbformat_minor": 4
}
